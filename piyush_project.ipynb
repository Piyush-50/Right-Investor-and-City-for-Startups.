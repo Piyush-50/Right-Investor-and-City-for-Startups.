{
 "cells": [
  {
   "cell_type": "code",
   "execution_count": null,
   "id": "1900ea03",
   "metadata": {},
   "outputs": [],
   "source": []
  },
  {
   "cell_type": "markdown",
   "id": "bf3f9d43",
   "metadata": {},
   "source": [
    "Your Friend has developed the Product and he wants to establish the product startup and he is searching for a perfect location where getting the investment has a high chance. But due to its financial restriction, he can choose only between three locations -  Bangalore, Mumbai, and NCR. As a friend, you want to help your friend deciding the location. NCR include Gurgaon, Noida and New Delhi. Find the location where the most number of funding is done. That means, find the location where startups has received funding maximum number of times. Plot the bar graph between location and number of funding. Take city name \"Delhi\" as \"New Delhi\". Check the case-sensitiveness of cities also. That means, at some place instead of \"Bangalore\", \"bangalore\" is given. Take city name as \"Bangalore\". For few startups multiple locations are given, one Indian and one Foreign. Consider the startup if any one of the city lies in given locations."
   ]
  },
  {
   "cell_type": "code",
   "execution_count": 7,
   "id": "afdf1c74",
   "metadata": {},
   "outputs": [
    {
     "data": {
      "image/png": "[encoded data removed]",
      "text/plain": [
       "<Figure size 432x288 with 1 Axes>"
      ]
     },
     "metadata": {
      "needs_background": "light"
     },
     "output_type": "display_data"
    }
   ],
   "source": [
    "\n",
    "import numpy as np\n",
    "import csv\n",
    "import matplotlib.pyplot as plt\n",
    "with open('startup_funding.csv') as file_obj:\n",
    "    file_data=csv.DictReader(file_obj,skipinitialspace=True)\n",
    "    city=[]\n",
    "    for row in file_data:\n",
    "        city.append(row['CityLocation'])\n",
    "    n_city=np.array(city)\n",
    "    n_city=n_city[n_city!='']\n",
    "\n",
    "    for i in range(len(n_city)):\n",
    "        if 'bangalore' in n_city[i]:\n",
    "            n_city[i] = 'Bangalore'\n",
    "        if n_city[i] == 'Delhi' or n_city[i]=='New Delhi' or n_city[i]=='Gurgaon' or n_city[i]=='Noida':\n",
    "            n_city[i] = 'NCR'\n",
    "\n",
    "    for i in range(len(n_city)):\n",
    "        temp = ' '.join(n_city[i].split('/'))\n",
    "        if 'bangalore' in temp or 'Bangalore' in temp:\n",
    "            n_city[i]='Bangalore'\n",
    "\n",
    "        if 'Delhi' in temp or 'New Delhi' in temp or 'Gurgaon' in temp or 'Noida' in temp:\n",
    "            n_city[i]= 'NCR'\n",
    "        if 'Mumbai' in temp:\n",
    "            n_city[i]='Mumbai'\n",
    "\n",
    "    n_city = n_city[(n_city=='Mumbai') | (n_city=='NCR') | (n_city=='Bangalore')]\n",
    "    d={}\n",
    "\n",
    "    for ele in n_city:\n",
    "        d[ele]=d.get(ele,0) + 1\n",
    "    city = []\n",
    "    n_funding = []\n",
    "    for  ele in d:\n",
    "        city.append(ele)\n",
    "        n_funding.append(d[ele])\n",
    "\n",
    "    plt.bar(city,n_funding)\n",
    "    plt.title('City and no. of funding')\n",
    "    plt.xlabel('City')\n",
    "    plt.ylabel('no. of funding')\n",
    "    plt.show()\n",
    "\n"
   ]
  },
  {
   "cell_type": "markdown",
   "id": "99bd2e84",
   "metadata": {},
   "source": [
    "Even after trying for so many times, your friend’s startup could not find the investment. So you decided to take this matter in your hand and try to find the list of investors who probably can invest in your friend’s startup. Your list will increase the chance of your friend startup getting some initial investment by contacting these investors. Find the top 5 investors who have invested maximum number of times (consider repeat investments in one company also). In a startup, multiple investors might have invested. So consider each investor for that startup. Ignore undisclosed investors"
   ]
  },
  {
   "cell_type": "code",
   "execution_count": 8,
   "id": "7c0a04f8",
   "metadata": {},
   "outputs": [
    {
     "name": "stdout",
     "output_type": "stream",
     "text": [
      "Sequoia Capital 64\n",
      "Accel Partners 51\n",
      "Kalaari Capital 44\n",
      "Indian Angel Network 40\n",
      "SAIF Partners 40\n"
     ]
    }
   ],
   "source": [
    "# Open and read data file as specified in the question\n",
    "# Print the required output in given format\n",
    "import csv\n",
    "import operator\n",
    "\n",
    "with open('startup_funding.csv') as file_obj:\n",
    "    file_data = csv.DictReader(file_obj, skipinitialspace=True)\n",
    "    investors = []\n",
    "    for row in file_data:\n",
    "        if not ('Undisclosed' in row['InvestorsName'] or 'undisclosed' in row['InvestorsName']):\n",
    "            for i in row['InvestorsName'].split(','):\n",
    "                investors.append(i.strip())\n",
    "\n",
    "    dic = dict()\n",
    "    for i in investors:\n",
    "        if i in dic.keys():\n",
    "            dic[i] += 1\n",
    "        else:\n",
    "            dic[i] = 1\n",
    "    dic.pop('')\n",
    "    n_investor=[]\n",
    "    n_time=[]\n",
    "    for ele in dic:\n",
    "        n_investor.append(ele)\n",
    "        n_time.append(dic[ele])\n",
    "\n",
    "    sorted_dic =dict(sorted(dic.items(),key=operator.itemgetter(1),reverse=True))\n",
    "    a=1\n",
    "    for ele in sorted_dic:\n",
    "        if a==6:\n",
    "            break\n",
    "        print(ele,sorted_dic[ele])\n",
    "        a+=1"
   ]
  },
  {
   "cell_type": "raw",
   "id": "58702706",
   "metadata": {},
   "source": [
    "After re-analysing the dataset you found out that some investors have invested in the same startup at different number of funding rounds. So before finalising the previous list, you want to improvise it by finding the top 5 investors who have invested in different number of startups. This list will be more helpful than your previous list in finding the investment for your friend startup. Find the top 5 investors who have invested maximum number of times in different companies. That means, if one investor has invested multiple times in one startup, count one for that company. There are many errors in startup names. Ignore correcting all, just handle the important ones - Ola, Flipkart, Oyo and Paytm"
   ]
  },
  {
   "cell_type": "code",
   "execution_count": 9,
   "id": "f9865743",
   "metadata": {},
   "outputs": [
    {
     "name": "stdout",
     "output_type": "stream",
     "text": [
      "Sequoia Capital 49\n",
      "Accel Partners 46\n",
      "Kalaari Capital 41\n",
      "Indian Angel Network 40\n",
      "Blume Ventures 36\n"
     ]
    }
   ],
   "source": [
    "# Open and read data file as specified in the question\n",
    "# Print the required output in given format\n",
    "import csv\n",
    "import operator\n",
    "\n",
    "with open('startup_funding.csv') as file_obj:\n",
    "    file_data = csv.DictReader(file_obj, skipinitialspace=True)\n",
    "    startup=[]\n",
    "    investor_name=[]\n",
    "    for row in file_data:\n",
    "\n",
    "        if not ('Undisclosed' in row['InvestorsName'] or 'undisclosed' in row['InvestorsName']):\n",
    "            for i in row['InvestorsName'].split(','):\n",
    "                investor_name.append(i.strip())\n",
    "                startup.append(row['StartupName'])\n",
    "    for i in range(len(startup)):\n",
    "        if startup[i]=='Olacabs' or startup[i]=='Ola Cabs':\n",
    "            startup[i]= 'Ola'\n",
    "        if startup[i] == 'Flipkart.com' :\n",
    "            startup[i]= 'Flipkart'\n",
    "        if startup[i]=='Oyo'  or startup[i]=='Oyo Rooms' or startup[i]=='Oyorooms' :\n",
    "            startup[i]= 'Oyo'\n",
    "        if startup[i]=='Paytm Marketplace':\n",
    "            startup[i]= 'Paytm'\n",
    "\n",
    "    final_1=[]\n",
    "    for ele in range(len(startup)):\n",
    "        if startup[ele]=='' or investor_name[ele]=='':\n",
    "            continue\n",
    "        else:\n",
    "            final_1.append(investor_name[ele]+'*'+startup[ele])\n",
    "\n",
    "    final_2=[]\n",
    "    for ele in final_1:\n",
    "        if ele not in final_2:\n",
    "            final_2.append(ele)\n",
    "    for ele in range(len(final_2)):\n",
    "        final_2[ele]=final_2[ele].split('*')[0].strip()\n",
    "    d={}\n",
    "    for ele in final_2:\n",
    "        d[ele]=d.get(ele,0) + 1\n",
    "    d = dict(sorted(d.items(),key=operator.itemgetter(1),reverse=True))\n",
    "    a=1\n",
    "    for ele in d:\n",
    "        if a==6:\n",
    "            break\n",
    "        print(ele,d[ele])\n",
    "        a+=1"
   ]
  },
  {
   "cell_type": "markdown",
   "id": "24d0235b",
   "metadata": {},
   "source": [
    "Even after putting so much effort in finding the probable investors, it didn't turn out to be helpful for your friend. So you went to your investor friend to understand the situation better and your investor friend explained to you about the different Investment Types and their features. This new information will be helpful in finding the right investor. Since your friend startup is at an early stage startup, the best-suited investment type would be - Seed Funding and Crowdfunding. Find the top 5 investors who have invested in a different number of startups and their investment type is Crowdfunding or Seed Funding. Correct spelling of investment types are - \"Private Equity\", \"Seed Funding\", \"Debt Funding\", and \"Crowd Funding\". Keep an eye for any spelling mistake. You can find this by printing unique values from this column. There are many errors in startup names. Ignore correcting all, just handle the important ones - Ola, Flipkart, Oyo and Paytm."
   ]
  },
  {
   "cell_type": "code",
   "execution_count": 10,
   "id": "30ae7a9b",
   "metadata": {},
   "outputs": [
    {
     "name": "stdout",
     "output_type": "stream",
     "text": [
      "Indian Angel Network 17\n",
      "Blume Ventures 14\n",
      "Kalaari Capital 14\n",
      "Sequoia Capital 12\n",
      "Accel Partners 10\n"
     ]
    }
   ],
   "source": [
    "# Open and read data file as specified in the question\n",
    "# Print the required output in given format\n",
    "import csv\n",
    "import operator\n",
    "\n",
    "with open('startup_funding.csv') as file_obj:\n",
    "    file_data = csv.DictReader(file_obj, skipinitialspace=True)\n",
    "    startup=[]\n",
    "    investor_name=[]\n",
    "    investment_type=[]\n",
    "    for row in file_data:\n",
    "        investment_type.append(row['InvestmentType'])\n",
    "\n",
    "        if not ('Undisclosed' in row['InvestorsName'] or 'undisclosed' in row['InvestorsName']):\n",
    "            for i in row['InvestorsName'].split(','):\n",
    "                investor_name.append(i.strip())\n",
    "                startup.append(row['StartupName'])\n",
    "\n",
    "    for i in range(len(startup)):\n",
    "        if startup[i]=='Olacabs' or startup[i]=='Ola Cabs':\n",
    "            startup[i]= 'Ola'\n",
    "        if startup[i] == 'Flipkart.com' :\n",
    "            startup[i]= 'Flipkart'\n",
    "        if startup[i]=='Oyo'  or startup[i]=='Oyo Rooms' or startup[i]=='Oyorooms' :\n",
    "            startup[i]= 'Oyo'\n",
    "        if startup[i]=='Paytm Marketplace':\n",
    "            startup[i]= 'Paytm'\n",
    "\n",
    "    for ele in range(len(investment_type)):\n",
    "        if investment_type[ele]=='SeedFunding':\n",
    "            investment_type[ele]='Seed Funding'\n",
    "        if investment_type[ele]=='Crowd funding':\n",
    "            investment_type[ele]='Crowd Funding'\n",
    "\n",
    "\n",
    "    final_1=[]\n",
    "    for ele in range(len(investment_type)):\n",
    "        if investment_type[ele]=='Seed Funding' or investment_type[ele]=='Crowd Funding':\n",
    "            if startup[ele]=='' or investor_name[ele]=='':\n",
    "                continue\n",
    "            else:\n",
    "                final_1.append(investor_name[ele]+'*'+startup[ele])\n",
    "\n",
    "    final_2=[]\n",
    "    for ele in final_1:\n",
    "        if ele not in final_2:\n",
    "            final_2.append(ele)\n",
    "    for ele in range(len(final_2)):\n",
    "        final_2[ele]=final_2[ele].split('*')[0].strip()\n",
    "    d={}\n",
    "    for ele in final_2:\n",
    "        d[ele]=d.get(ele,0) + 1\n",
    "    d = dict(sorted(d.items(),key=operator.itemgetter(1),reverse=True))\n",
    "    a=1\n",
    "    for ele in d:\n",
    "        if a==6:\n",
    "            break\n",
    "        print(ele,d[ele])\n",
    "        a+=1\n",
    "\n",
    "\n"
   ]
  },
  {
   "cell_type": "markdown",
   "id": "7f347f16",
   "metadata": {},
   "source": [
    "Due to your immense help, your friend startup successfully got seed funding and it is on the operational mode. Now your friend wants to expand his startup and he is looking for new investors for his startup. Now you again come as a saviour to help your friend and want to create a list of probable new new investors. Before moving forward you remember your investor friend advice that finding the investors by analysing the investment type. Since your friend startup is not in early phase it is in growth stage so the best-suited investment type is Private Equity. Find the top 5 investors who have invested in a different number of startups and their investment type is Private Equity. Correct spelling of investment types are - \"Private Equity\", \"Seed Funding\", \"Debt Funding\", and \"Crowd Funding\". Keep an eye for any spelling mistake. You can find this by printing unique values from this column. There are many errors in startup names. Ignore correcting all, just handle the important ones - Ola, Flipkart, Oyo and Paytm"
   ]
  },
  {
   "cell_type": "code",
   "execution_count": 11,
   "id": "5ddd0d98",
   "metadata": {},
   "outputs": [
    {
     "name": "stdout",
     "output_type": "stream",
     "text": [
      "Accel Partners 13\n",
      "Indian Angel Network 11\n",
      "Blume Ventures 11\n",
      "Kalaari Capital 9\n",
      "SAIF Partners 9\n"
     ]
    }
   ],
   "source": [
    "# Open and read data file as specified in the question\n",
    "# Print the required output in given format\n",
    "import csv\n",
    "import operator\n",
    "\n",
    "with open('startup_funding.csv') as file_obj:\n",
    "    file_data = csv.DictReader(file_obj, skipinitialspace=True)\n",
    "    startup=[]\n",
    "    investor_name=[]\n",
    "    investment_type=[]\n",
    "    for row in file_data:\n",
    "        investment_type.append(row['InvestmentType'])\n",
    "\n",
    "        if not ('Undisclosed' in row['InvestorsName'] or 'undisclosed' in row['InvestorsName']):\n",
    "            for i in row['InvestorsName'].split(','):\n",
    "                investor_name.append(i.strip())\n",
    "                startup.append(row['StartupName'])\n",
    "\n",
    "    for i in range(len(startup)):\n",
    "        if startup[i]=='Olacabs' or startup[i]=='Ola Cabs':\n",
    "            startup[i]= 'Ola'\n",
    "        if startup[i] == 'Flipkart.com' :\n",
    "            startup[i]= 'Flipkart'\n",
    "        if startup[i]=='Oyo'  or startup[i]=='Oyo Rooms' or startup[i]=='Oyorooms' :\n",
    "            startup[i]= 'Oyo'\n",
    "        if startup[i]=='Paytm Marketplace':\n",
    "            startup[i]= 'Paytm'\n",
    "\n",
    "    for ele in range(len(investment_type)):\n",
    "        if investment_type[ele]=='PrivateEquity':\n",
    "            investment_type[ele]='Private Equity'\n",
    "\n",
    "    final_1=[]\n",
    "    for ele in range(len(investment_type)):\n",
    "        if investment_type[ele]=='Private Equity':\n",
    "            if startup[ele]=='' or investor_name[ele]=='':\n",
    "                continue\n",
    "            else:\n",
    "                final_1.append(investor_name[ele]+'*'+startup[ele])\n",
    "\n",
    "    final_2=[]\n",
    "    for ele in final_1:\n",
    "        if ele not in final_2:\n",
    "            final_2.append(ele)\n",
    "    for ele in range(len(final_2)):\n",
    "        final_2[ele]=final_2[ele].split('*')[0].strip()\n",
    "    d={}\n",
    "    for ele in final_2:\n",
    "        d[ele]=d.get(ele,0) + 1\n",
    "    d = dict(sorted(d.items(),key=operator.itemgetter(1),reverse=True))\n",
    "    a=1\n",
    "    for ele in d:\n",
    "        if a==6:\n",
    "            break\n",
    "        print(ele,d[ele])\n",
    "        a+=1"
   ]
  },
  {
   "cell_type": "code",
   "execution_count": null,
   "id": "8213fda1",
   "metadata": {},
   "outputs": [],
   "source": []
  }
 ],
 "metadata": {
  "kernelspec": {
   "display_name": "Python 3",
   "language": "python",
   "name": "python3"
  },
  "language_info": {
   "codemirror_mode": {
    "name": "ipython",
    "version": 3
   },
   "file_extension": ".py",
   "mimetype": "text/x-python",
   "name": "python",
   "nbconvert_exporter": "python",
   "pygments_lexer": "ipython3",
   "version": "3.8.8"
  }
 },
 "nbformat": 4,
 "nbformat_minor": 5
}
